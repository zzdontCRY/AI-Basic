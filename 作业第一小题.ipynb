{
 "cells": [
  {
   "cell_type": "code",
   "execution_count": null,
   "metadata": {},
   "outputs": [],
   "source": [
    "income=[]\n",
    "income.append(input())\n",
    "print(income)\n",
    "income.append(input())\n",
    "print(income)\n",
    "income.append(input())\n",
    "print(income)\n",
    "income.append(input())\n",
    "print(income)\n",
    "income.append(input())\n",
    "print(income)\n",
    "income.append(input())\n",
    "print(income)\n",
    "income.append(input())\n",
    "print(income)\n"
   ]
  },
  {
   "cell_type": "code",
   "execution_count": 4,
   "metadata": {
    "scrolled": true
   },
   "outputs": [
    {
     "name": "stdout",
     "output_type": "stream",
     "text": [
      "76697\n",
      "['76697']\n",
      "456\n",
      "['76697', '456']\n",
      "645\n",
      "['76697', '456', '645']\n",
      "45236\n",
      "['76697', '456', '645', '45236']\n",
      "156\n",
      "['76697', '456', '645', '45236', '156']\n",
      "4856\n",
      "['76697', '456', '645', '45236', '156', '4856']\n",
      "4156\n",
      "['76697', '456', '645', '45236', '156', '4856', '4156']\n"
     ]
    }
   ],
   "source": [
    "expend=[]\n",
    "expend.append(input())\n",
    "print(expend)\n",
    "expend.append(input())\n",
    "print(expend)\n",
    "expend.append(input())\n",
    "print(expend)\n",
    "expend.append(input())\n",
    "print(expend)\n",
    "expend.append(input())\n",
    "print(expend)\n",
    "expend.append(input())\n",
    "print(expend)\n",
    "expend.append(input())\n",
    "print(expend)"
   ]
  },
  {
   "cell_type": "code",
   "execution_count": 5,
   "metadata": {},
   "outputs": [
    {
     "ename": "TypeError",
     "evalue": "unsupported operand type(s) for -: 'str' and 'str'",
     "output_type": "error",
     "traceback": [
      "\u001b[1;31m---------------------------------------------------------------------------\u001b[0m",
      "\u001b[1;31mTypeError\u001b[0m                                 Traceback (most recent call last)",
      "\u001b[1;32m<ipython-input-5-bc2e90e5a19f>\u001b[0m in \u001b[0;36m<module>\u001b[1;34m\u001b[0m\n\u001b[1;32m----> 1\u001b[1;33m \u001b[0mdict_surplus\u001b[0m\u001b[1;33m=\u001b[0m\u001b[1;33m[\u001b[0m\u001b[0mincome\u001b[0m\u001b[1;33m[\u001b[0m\u001b[1;36m0\u001b[0m\u001b[1;33m]\u001b[0m\u001b[1;33m-\u001b[0m\u001b[0mexpend\u001b[0m\u001b[1;33m[\u001b[0m\u001b[1;36m0\u001b[0m\u001b[1;33m]\u001b[0m\u001b[1;33m]\u001b[0m\u001b[1;33m\u001b[0m\u001b[1;33m\u001b[0m\u001b[0m\n\u001b[0m",
      "\u001b[1;31mTypeError\u001b[0m: unsupported operand type(s) for -: 'str' and 'str'"
     ]
    }
   ],
   "source": []
  },
  {
   "cell_type": "code",
   "execution_count": 20,
   "metadata": {},
   "outputs": [],
   "source": [
    "a=int(income[0])-int(expend[0])\n",
    "b=int(income[1])-int(expend[1])\n",
    "c=int(income[2])-int(expend[2])\n",
    "d=int(income[3])-int(expend[3])\n",
    "e=int(income[4])-int(expend[4])\n",
    "f=int(income[5])-int(expend[5])\n",
    "g=int(income[6])-int(expend[6])"
   ]
  },
  {
   "cell_type": "code",
   "execution_count": 26,
   "metadata": {},
   "outputs": [
    {
     "data": {
      "text/plain": [
       "{'星期一结余': -76574,\n",
       " '星期二结余': 198,\n",
       " '星期三结余': 7342,\n",
       " '星期四结余': -44780,\n",
       " '星期五结余': 309,\n",
       " '星期六结余': -4067,\n",
       " '星期七结余': -3700}"
      ]
     },
     "execution_count": 26,
     "metadata": {},
     "output_type": "execute_result"
    }
   ],
   "source": [
    "dict_surplus={\n",
    "    '星期一结余':a,\n",
    "    '星期二结余':b,\n",
    "    '星期三结余':c,\n",
    "    '星期四结余':d,\n",
    "    '星期五结余':e,\n",
    "    '星期六结余':f,\n",
    "    '星期七结余':g,\n",
    "}\n",
    "dict_surplus"
   ]
  },
  {
   "cell_type": "code",
   "execution_count": null,
   "metadata": {},
   "outputs": [],
   "source": []
  }
 ],
 "metadata": {
  "kernelspec": {
   "display_name": "Python 3",
   "language": "python",
   "name": "python3"
  },
  "language_info": {
   "codemirror_mode": {
    "name": "ipython",
    "version": 3
   },
   "file_extension": ".py",
   "mimetype": "text/x-python",
   "name": "python",
   "nbconvert_exporter": "python",
   "pygments_lexer": "ipython3",
   "version": "3.7.4"
  }
 },
 "nbformat": 4,
 "nbformat_minor": 2
}
