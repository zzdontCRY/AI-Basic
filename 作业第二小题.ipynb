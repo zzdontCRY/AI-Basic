{
 "cells": [
  {
   "cell_type": "code",
   "execution_count": null,
   "metadata": {},
   "outputs": [],
   "source": [
    "A=[\n",
    "    {'name':'zz','balance':0}\n",
    "]\n",
    "#查询余额\n",
    "print('账户余额',(name,zz))\n",
    "#存款\n",
    "money =int(input('请输入你的金额：'))\n",
    "for i in A:\n",
    "    if i['balance']+=money\n",
    "    balance+=money\n",
    "    print('账户存入',(name,zz))\n",
    "#取款\n",
    "money=int(input('请输入你的金额：'))\n",
    "if money<=balance\n",
    "   print('请取出钞票吧')\n",
    "    balance-=money\n",
    "else：\n",
    "    print('无法取款')\n",
    "#退出\n"
   ]
  },
  {
   "cell_type": "code",
   "execution_count": null,
   "metadata": {},
   "outputs": [],
   "source": [
    "#老师真的不是很会写了  就是我有个问题为什么 我每次shift+enter 代码不会自动运行 就是一直不出结果,这个是什么意思"
   ]
  },
  {
   "cell_type": "code",
   "execution_count": null,
   "metadata": {},
   "outputs": [],
   "source": []
  }
 ],
 "metadata": {
  "kernelspec": {
   "display_name": "Python 3",
   "language": "python",
   "name": "python3"
  }
 },
 "nbformat": 4,
 "nbformat_minor": 2
}
